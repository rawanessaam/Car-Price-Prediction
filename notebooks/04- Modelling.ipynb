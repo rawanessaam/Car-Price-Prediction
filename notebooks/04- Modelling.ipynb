{
 "cells": [
  {
   "cell_type": "code",
   "execution_count": 1,
   "id": "d690262f",
   "metadata": {},
   "outputs": [],
   "source": [
    "import pickle\n",
    "import numpy as np\n",
    "import pandas as pd\n",
    "from sklearn.impute import SimpleImputer\n",
    "from sklearn.preprocessing import RobustScaler, StandardScaler\n",
    "from sklearn.compose import ColumnTransformer\n",
    "from sklearn.pipeline import Pipeline\n",
    "from sklearn.preprocessing import OrdinalEncoder, FunctionTransformer, PolynomialFeatures\n",
    "from category_encoders import BinaryEncoder\n",
    "from sklearn.linear_model import LinearRegression, Ridge\n",
    "from sklearn.tree import DecisionTreeRegressor\n",
    "from sklearn.ensemble import RandomForestRegressor\n",
    "from sklearn.model_selection import cross_val_score\n",
    "from sklearn.model_selection import GridSearchCV, RandomizedSearchCV\n",
    "from xgboost import XGBRegressor"
   ]
  },
  {
   "cell_type": "code",
   "execution_count": 2,
   "id": "30bbf05a",
   "metadata": {},
   "outputs": [
    {
     "data": {
      "text/html": [
       "<div>\n",
       "<style scoped>\n",
       "    .dataframe tbody tr th:only-of-type {\n",
       "        vertical-align: middle;\n",
       "    }\n",
       "\n",
       "    .dataframe tbody tr th {\n",
       "        vertical-align: top;\n",
       "    }\n",
       "\n",
       "    .dataframe thead th {\n",
       "        text-align: right;\n",
       "    }\n",
       "</style>\n",
       "<table border=\"1\" class=\"dataframe\">\n",
       "  <thead>\n",
       "    <tr style=\"text-align: right;\">\n",
       "      <th></th>\n",
       "      <th>Location</th>\n",
       "      <th>Year</th>\n",
       "      <th>Kilometers_Driven</th>\n",
       "      <th>Fuel_Type</th>\n",
       "      <th>Transmission</th>\n",
       "      <th>Owner_Type</th>\n",
       "      <th>Mileage</th>\n",
       "      <th>Engine</th>\n",
       "      <th>Power</th>\n",
       "      <th>Seats</th>\n",
       "      <th>Brand</th>\n",
       "      <th>Model</th>\n",
       "    </tr>\n",
       "  </thead>\n",
       "  <tbody>\n",
       "    <tr>\n",
       "      <th>5639</th>\n",
       "      <td>Pune</td>\n",
       "      <td>2006</td>\n",
       "      <td>155000</td>\n",
       "      <td>Petrol</td>\n",
       "      <td>Manual</td>\n",
       "      <td>Third</td>\n",
       "      <td>15.40</td>\n",
       "      <td>1590.0</td>\n",
       "      <td>94.00</td>\n",
       "      <td>5.0</td>\n",
       "      <td>Maruti</td>\n",
       "      <td>Baleno</td>\n",
       "    </tr>\n",
       "    <tr>\n",
       "      <th>2303</th>\n",
       "      <td>Chennai</td>\n",
       "      <td>2006</td>\n",
       "      <td>109000</td>\n",
       "      <td>Petrol</td>\n",
       "      <td>Manual</td>\n",
       "      <td>First</td>\n",
       "      <td>16.90</td>\n",
       "      <td>1497.0</td>\n",
       "      <td>100.00</td>\n",
       "      <td>5.0</td>\n",
       "      <td>Honda</td>\n",
       "      <td>City</td>\n",
       "    </tr>\n",
       "    <tr>\n",
       "      <th>2617</th>\n",
       "      <td>Jaipur</td>\n",
       "      <td>2008</td>\n",
       "      <td>128813</td>\n",
       "      <td>Diesel</td>\n",
       "      <td>Manual</td>\n",
       "      <td>First</td>\n",
       "      <td>19.09</td>\n",
       "      <td>1396.0</td>\n",
       "      <td>69.00</td>\n",
       "      <td>5.0</td>\n",
       "      <td>Tata</td>\n",
       "      <td>Indigo</td>\n",
       "    </tr>\n",
       "    <tr>\n",
       "      <th>1397</th>\n",
       "      <td>Kochi</td>\n",
       "      <td>2016</td>\n",
       "      <td>35659</td>\n",
       "      <td>Diesel</td>\n",
       "      <td>Automatic</td>\n",
       "      <td>First</td>\n",
       "      <td>15.97</td>\n",
       "      <td>2993.0</td>\n",
       "      <td>258.00</td>\n",
       "      <td>7.0</td>\n",
       "      <td>BMW</td>\n",
       "      <td>X5</td>\n",
       "    </tr>\n",
       "    <tr>\n",
       "      <th>3703</th>\n",
       "      <td>Delhi</td>\n",
       "      <td>2013</td>\n",
       "      <td>51000</td>\n",
       "      <td>Diesel</td>\n",
       "      <td>Automatic</td>\n",
       "      <td>First</td>\n",
       "      <td>19.08</td>\n",
       "      <td>1582.0</td>\n",
       "      <td>126.32</td>\n",
       "      <td>5.0</td>\n",
       "      <td>Hyundai</td>\n",
       "      <td>Verna</td>\n",
       "    </tr>\n",
       "    <tr>\n",
       "      <th>...</th>\n",
       "      <td>...</td>\n",
       "      <td>...</td>\n",
       "      <td>...</td>\n",
       "      <td>...</td>\n",
       "      <td>...</td>\n",
       "      <td>...</td>\n",
       "      <td>...</td>\n",
       "      <td>...</td>\n",
       "      <td>...</td>\n",
       "      <td>...</td>\n",
       "      <td>...</td>\n",
       "      <td>...</td>\n",
       "    </tr>\n",
       "    <tr>\n",
       "      <th>3772</th>\n",
       "      <td>Chennai</td>\n",
       "      <td>2015</td>\n",
       "      <td>15000</td>\n",
       "      <td>Petrol</td>\n",
       "      <td>Automatic</td>\n",
       "      <td>First</td>\n",
       "      <td>18.90</td>\n",
       "      <td>1197.0</td>\n",
       "      <td>82.00</td>\n",
       "      <td>5.0</td>\n",
       "      <td>Hyundai</td>\n",
       "      <td>Grand</td>\n",
       "    </tr>\n",
       "    <tr>\n",
       "      <th>5191</th>\n",
       "      <td>Hyderabad</td>\n",
       "      <td>2014</td>\n",
       "      <td>46000</td>\n",
       "      <td>Diesel</td>\n",
       "      <td>Manual</td>\n",
       "      <td>Second</td>\n",
       "      <td>20.14</td>\n",
       "      <td>1498.0</td>\n",
       "      <td>88.80</td>\n",
       "      <td>5.0</td>\n",
       "      <td>Volkswagen</td>\n",
       "      <td>Polo</td>\n",
       "    </tr>\n",
       "    <tr>\n",
       "      <th>5226</th>\n",
       "      <td>Bangalore</td>\n",
       "      <td>2012</td>\n",
       "      <td>73000</td>\n",
       "      <td>Diesel</td>\n",
       "      <td>Automatic</td>\n",
       "      <td>First</td>\n",
       "      <td>22.69</td>\n",
       "      <td>1995.0</td>\n",
       "      <td>190.00</td>\n",
       "      <td>5.0</td>\n",
       "      <td>BMW</td>\n",
       "      <td>3</td>\n",
       "    </tr>\n",
       "    <tr>\n",
       "      <th>5390</th>\n",
       "      <td>Pune</td>\n",
       "      <td>2010</td>\n",
       "      <td>45252</td>\n",
       "      <td>Petrol</td>\n",
       "      <td>Manual</td>\n",
       "      <td>First</td>\n",
       "      <td>18.90</td>\n",
       "      <td>1197.0</td>\n",
       "      <td>81.86</td>\n",
       "      <td>5.0</td>\n",
       "      <td>Hyundai</td>\n",
       "      <td>Grand</td>\n",
       "    </tr>\n",
       "    <tr>\n",
       "      <th>860</th>\n",
       "      <td>Kolkata</td>\n",
       "      <td>2011</td>\n",
       "      <td>98000</td>\n",
       "      <td>Diesel</td>\n",
       "      <td>Manual</td>\n",
       "      <td>Second</td>\n",
       "      <td>12.80</td>\n",
       "      <td>2494.0</td>\n",
       "      <td>102.00</td>\n",
       "      <td>8.0</td>\n",
       "      <td>Toyota</td>\n",
       "      <td>Innova</td>\n",
       "    </tr>\n",
       "  </tbody>\n",
       "</table>\n",
       "<p>4812 rows × 12 columns</p>\n",
       "</div>"
      ],
      "text/plain": [
       "       Location  Year  Kilometers_Driven Fuel_Type Transmission Owner_Type  \\\n",
       "5639       Pune  2006             155000    Petrol       Manual      Third   \n",
       "2303    Chennai  2006             109000    Petrol       Manual      First   \n",
       "2617     Jaipur  2008             128813    Diesel       Manual      First   \n",
       "1397      Kochi  2016              35659    Diesel    Automatic      First   \n",
       "3703      Delhi  2013              51000    Diesel    Automatic      First   \n",
       "...         ...   ...                ...       ...          ...        ...   \n",
       "3772    Chennai  2015              15000    Petrol    Automatic      First   \n",
       "5191  Hyderabad  2014              46000    Diesel       Manual     Second   \n",
       "5226  Bangalore  2012              73000    Diesel    Automatic      First   \n",
       "5390       Pune  2010              45252    Petrol       Manual      First   \n",
       "860     Kolkata  2011              98000    Diesel       Manual     Second   \n",
       "\n",
       "      Mileage  Engine   Power  Seats       Brand   Model  \n",
       "5639    15.40  1590.0   94.00    5.0      Maruti  Baleno  \n",
       "2303    16.90  1497.0  100.00    5.0       Honda    City  \n",
       "2617    19.09  1396.0   69.00    5.0        Tata  Indigo  \n",
       "1397    15.97  2993.0  258.00    7.0         BMW      X5  \n",
       "3703    19.08  1582.0  126.32    5.0     Hyundai   Verna  \n",
       "...       ...     ...     ...    ...         ...     ...  \n",
       "3772    18.90  1197.0   82.00    5.0     Hyundai   Grand  \n",
       "5191    20.14  1498.0   88.80    5.0  Volkswagen    Polo  \n",
       "5226    22.69  1995.0  190.00    5.0         BMW       3  \n",
       "5390    18.90  1197.0   81.86    5.0     Hyundai   Grand  \n",
       "860     12.80  2494.0  102.00    8.0      Toyota  Innova  \n",
       "\n",
       "[4812 rows x 12 columns]"
      ]
     },
     "execution_count": 2,
     "metadata": {},
     "output_type": "execute_result"
    }
   ],
   "source": [
    "# Load the unpreprocessed data\n",
    "with open('../data/unprocessed_data.pkl', 'rb') as f:\n",
    "    X_train, y_train, X_test, y_test = pickle.load(f)\n",
    "    \n",
    "X_train"
   ]
  },
  {
   "cell_type": "code",
   "execution_count": 3,
   "id": "458936ff",
   "metadata": {},
   "outputs": [
    {
     "data": {
      "text/plain": [
       "array([[ 1.66018158e-01,  4.99750125e-03,  0.00000000e+00, ...,\n",
       "         1.00000000e+00,  1.00000000e+00,  2.00600000e+03],\n",
       "       [ 4.53955901e-02,  1.04947526e-01,  0.00000000e+00, ...,\n",
       "         0.00000000e+00,  3.00000000e+00,  2.00600000e+03],\n",
       "       [-8.56031128e-02, -4.11460936e-01,  0.00000000e+00, ...,\n",
       "         1.00000000e+00,  3.00000000e+00,  2.00800000e+03],\n",
       "       ...,\n",
       "       [ 6.91309987e-01,  1.60419790e+00,  0.00000000e+00, ...,\n",
       "         0.00000000e+00,  3.00000000e+00,  2.01200000e+03],\n",
       "       [-3.43709468e-01, -1.97234716e-01,  0.00000000e+00, ...,\n",
       "         0.00000000e+00,  3.00000000e+00,  2.01000000e+03],\n",
       "       [ 1.33852140e+00,  1.38264201e-01,  3.00000000e+00, ...,\n",
       "         0.00000000e+00,  2.00000000e+00,  2.01100000e+03]])"
      ]
     },
     "execution_count": 3,
     "metadata": {},
     "output_type": "execute_result"
    }
   ],
   "source": [
    "# Load the preprocessed data\n",
    "with open('../data/preprocessed_data.pkl', 'rb') as f:\n",
    "    X_train_prep, y_train_log, X_test_prep, y_test_log = pickle.load(f)\n",
    "\n",
    "X_train_prep"
   ]
  },
  {
   "cell_type": "markdown",
   "id": "dd7777c7",
   "metadata": {},
   "source": [
    "# Linear Regression\n"
   ]
  },
  {
   "cell_type": "code",
   "execution_count": 4,
   "id": "6f7e7d21",
   "metadata": {},
   "outputs": [
    {
     "name": "stdout",
     "output_type": "stream",
     "text": [
      "Linear Regression: 0.8822780005707245\n"
     ]
    }
   ],
   "source": [
    "from sklearn.linear_model import LinearRegression\n",
    "\n",
    "# Linear Regression\n",
    "lr = LinearRegression()\n",
    "lr.fit(X_train_prep, y_train_log)   # Learn Weights from training data Using OLS (Normal Equation)\n",
    "\n",
    "\n",
    "lr_scores = cross_val_score(lr, X_train_prep, y_train_log, cv=5, scoring='r2')\n",
    "print(f\"Linear Regression: {np.mean(lr_scores)}\")"
   ]
  },
  {
   "cell_type": "code",
   "execution_count": 5,
   "id": "8e12ae2a",
   "metadata": {},
   "outputs": [
    {
     "data": {
      "text/plain": [
       "{'Linear Regression': np.float64(0.88)}"
      ]
     },
     "execution_count": 5,
     "metadata": {},
     "output_type": "execute_result"
    }
   ],
   "source": [
    "scores_dict = {'Linear Regression': round(np.mean(lr_scores), 2)}\n",
    "scores_dict"
   ]
  },
  {
   "cell_type": "markdown",
   "id": "f564125a",
   "metadata": {},
   "source": [
    "# Polynomial Regression\n"
   ]
  },
  {
   "cell_type": "code",
   "execution_count": 6,
   "id": "c75dadda",
   "metadata": {},
   "outputs": [
    {
     "name": "stdout",
     "output_type": "stream",
     "text": [
      "Cross-validated R²: 0.89 (± 0.02)\n"
     ]
    }
   ],
   "source": [
    "#  Preprocessing & Base Model\n",
    "\n",
    "num_cols_norm = ['Engine', 'Power', 'Mileage', 'Seats']  \n",
    "num_cols_log = ['Kilometers_Driven']\n",
    "nom_cat_cols = ['Location', 'Fuel_Type', 'Transmission', 'Brand', 'Model']\n",
    "ord_cat_cols = ['Owner_Type']\n",
    "\n",
    "imputer = SimpleImputer(strategy=\"median\")\n",
    "scaler  = RobustScaler()\n",
    "bin_enc = BinaryEncoder()\n",
    "ord_enc = OrdinalEncoder(categories=[['Fourth & Above', 'Third', 'Second', 'First']],\n",
    "                         handle_unknown=\"use_encoded_value\", unknown_value=-1)\n",
    "poly = PolynomialFeatures(degree=2, include_bias=False)\n",
    "\n",
    "log_transformer = FunctionTransformer(np.log1p, feature_names_out=\"one-to-one\" )  \n",
    "\n",
    "num_pipeline = Pipeline(steps=[ ('imputer', imputer),\n",
    "                                ('poly', poly),\n",
    "                                ('scaler', scaler)\n",
    "                              ])\n",
    "log_pipeline = Pipeline(steps=[ ('imputer', imputer),\n",
    "                              ('log_transform', log_transformer),\n",
    "                              ('poly', poly),\n",
    "                              ('scaler', scaler)\n",
    "                            ])\n",
    "transformer = ColumnTransformer(transformers=[\n",
    "                                                ('num', num_pipeline, num_cols_norm),\n",
    "                                                ('log_transform', log_pipeline, num_cols_log),\n",
    "                                                ('bin_enc', bin_enc, nom_cat_cols),\n",
    "                                                ('ord_enc', ord_enc, ord_cat_cols)\n",
    "                                            ], remainder='passthrough'\n",
    "                                )\n",
    "\n",
    "\n",
    "# Linear Regression\n",
    "lr = LinearRegression()\n",
    "pipe = Pipeline(steps=[ ('preprocessor', transformer),\n",
    "                        ('model', lr)\n",
    "                      ])\n",
    "\n",
    "\n",
    "poly2_scores = cross_val_score(pipe, X_train, y_train_log, cv=5, scoring='r2')\n",
    "print(\"Cross-validated R²: %.2f (± %.2f)\" % (poly2_scores.mean(), poly2_scores.std() * 2))"
   ]
  },
  {
   "cell_type": "code",
   "execution_count": 7,
   "id": "4dd71215",
   "metadata": {},
   "outputs": [
    {
     "data": {
      "text/plain": [
       "{'Linear Regression': np.float64(0.88),\n",
       " 'Polynomial Regression (2)': np.float64(0.89)}"
      ]
     },
     "execution_count": 7,
     "metadata": {},
     "output_type": "execute_result"
    }
   ],
   "source": [
    "scores_dict.update({'Polynomial Regression (2)': round(np.mean(poly2_scores), 2)})\n",
    "scores_dict"
   ]
  },
  {
   "cell_type": "markdown",
   "id": "4953765a",
   "metadata": {},
   "source": [
    "# Grid Search with Ridge Regression "
   ]
  },
  {
   "cell_type": "code",
   "execution_count": 8,
   "id": "29844ff2",
   "metadata": {},
   "outputs": [
    {
     "name": "stdout",
     "output_type": "stream",
     "text": [
      "Best parameters: {'model__alpha': 1.0, 'preprocessor__num__poly__degree': 3}\n",
      "Best cross-validated R²: 0.90\n"
     ]
    }
   ],
   "source": [
    "# Grid Search with Ridge Regression (tuning alpha and polynomial degree)\n",
    "ridge = Ridge()\n",
    "pipe_ridge = Pipeline(steps=[ ('preprocessor', transformer),\n",
    "                              ('model', ridge)\n",
    "                            ])\n",
    "param_grid = {\n",
    "    'preprocessor__num__poly__degree': [1, 2, 3, 4],\n",
    "    'model__alpha': [0.01, 0.1, 1.0, 10.0]\n",
    "}\n",
    "ridge_search = GridSearchCV(pipe_ridge, param_grid, cv=5, scoring='r2')\n",
    "ridge_search.fit(X_train, y_train_log)\n",
    "print(\"Best parameters:\", ridge_search.best_params_)\n",
    "print(\"Best cross-validated R²: %.2f\" % ridge_search.best_score_)"
   ]
  },
  {
   "cell_type": "code",
   "execution_count": 9,
   "id": "a9dc6a3e",
   "metadata": {},
   "outputs": [
    {
     "data": {
      "text/plain": [
       "{'Linear Regression': np.float64(0.88),\n",
       " 'Polynomial Regression (2)': np.float64(0.89),\n",
       " 'Ridge Regression (3)': np.float64(0.9)}"
      ]
     },
     "execution_count": 9,
     "metadata": {},
     "output_type": "execute_result"
    }
   ],
   "source": [
    "scores_dict.update({'Ridge Regression (3)': round(ridge_search.best_score_ , 2)})\n",
    "scores_dict"
   ]
  },
  {
   "cell_type": "markdown",
   "id": "6ffdec62",
   "metadata": {},
   "source": [
    "# Grid Search with Decision Tree"
   ]
  },
  {
   "cell_type": "code",
   "execution_count": 10,
   "id": "cf8dd8d8",
   "metadata": {},
   "outputs": [
    {
     "name": "stdout",
     "output_type": "stream",
     "text": [
      "Best parameters: {'model__max_depth': 20, 'model__min_samples_leaf': 4, 'model__min_samples_split': 10, 'preprocessor__num__poly__degree': 1}\n",
      "Best cross-validated R²: 0.90\n"
     ]
    }
   ],
   "source": [
    "# Decision Tree\n",
    "dt = DecisionTreeRegressor(random_state=42)\n",
    "pipe_dt = Pipeline(steps=[ ('preprocessor', transformer),\n",
    "                           ('model', dt)\n",
    "                         ])\n",
    "param_grid_dt = {\n",
    "    'preprocessor__num__poly__degree': [1],\n",
    "    'model__max_depth': [5, 10, 15, 20],\n",
    "    'model__min_samples_split': [2, 5, 10],\n",
    "    'model__min_samples_leaf': [1, 2, 4]\n",
    "}\n",
    "grid_search_dt = GridSearchCV(pipe_dt, param_grid_dt, cv=5, scoring='r2')\n",
    "grid_search_dt.fit(X_train, y_train_log)\n",
    "print(\"Best parameters:\", grid_search_dt.best_params_)\n",
    "print(\"Best cross-validated R²: %.2f\" % grid_search_dt.best_score_)"
   ]
  },
  {
   "cell_type": "code",
   "execution_count": 11,
   "id": "f8c79a9b",
   "metadata": {},
   "outputs": [
    {
     "data": {
      "text/plain": [
       "{'Linear Regression': np.float64(0.88),\n",
       " 'Polynomial Regression (2)': np.float64(0.89),\n",
       " 'Ridge Regression (3)': np.float64(0.9),\n",
       " 'Decision Tree Regressor': np.float64(0.9)}"
      ]
     },
     "execution_count": 11,
     "metadata": {},
     "output_type": "execute_result"
    }
   ],
   "source": [
    "scores_dict.update({'Decision Tree Regressor': round(grid_search_dt.best_score_, 2)})\n",
    "scores_dict"
   ]
  },
  {
   "cell_type": "markdown",
   "id": "35d92fbb",
   "metadata": {},
   "source": [
    "# Grid Search with RandomForest Regressor"
   ]
  },
  {
   "cell_type": "code",
   "execution_count": 12,
   "id": "b76c769d",
   "metadata": {},
   "outputs": [
    {
     "name": "stdout",
     "output_type": "stream",
     "text": [
      "Best parameters: {'model__max_depth': 20, 'model__min_samples_leaf': 1, 'model__min_samples_split': 2, 'preprocessor__num__poly__degree': 1}\n",
      "Best cross-validated R²: 0.94\n"
     ]
    }
   ],
   "source": [
    "# Random Forest\n",
    "rf = RandomForestRegressor(random_state=42)\n",
    "pipe_rf = Pipeline(steps=[ ('preprocessor', transformer),\n",
    "                           ('model', rf)\n",
    "                         ])\n",
    "param_grid_rf = {\n",
    "    'preprocessor__num__poly__degree': [1],\n",
    "    'model__n_estimators': [100, 200],\n",
    "    'model__max_depth': [10, 20],\n",
    "    'model__min_samples_split': [2, 5],\n",
    "    'model__min_samples_leaf': [1, 2]\n",
    "}\n",
    "grid_search_rf = GridSearchCV(pipe_rf, param_grid_dt, cv=5, scoring='r2')\n",
    "grid_search_rf.fit(X_train, y_train_log)\n",
    "print(\"Best parameters:\", grid_search_rf.best_params_)\n",
    "print(\"Best cross-validated R²: %.2f\" % grid_search_rf.best_score_)"
   ]
  },
  {
   "cell_type": "code",
   "execution_count": 13,
   "id": "7a4d7a9c",
   "metadata": {},
   "outputs": [
    {
     "data": {
      "text/plain": [
       "{'Linear Regression': np.float64(0.88),\n",
       " 'Polynomial Regression (2)': np.float64(0.89),\n",
       " 'Ridge Regression (3)': np.float64(0.9),\n",
       " 'Decision Tree Regressor': np.float64(0.9),\n",
       " 'RandomForest Regressor': np.float64(0.94)}"
      ]
     },
     "execution_count": 13,
     "metadata": {},
     "output_type": "execute_result"
    }
   ],
   "source": [
    "scores_dict.update({'RandomForest Regressor': round(grid_search_rf.best_score_, 2)})\n",
    "scores_dict"
   ]
  },
  {
   "cell_type": "markdown",
   "id": "209f51c0",
   "metadata": {},
   "source": [
    "# XGBoost"
   ]
  },
  {
   "cell_type": "code",
   "execution_count": 14,
   "id": "c9257749",
   "metadata": {},
   "outputs": [
    {
     "name": "stdout",
     "output_type": "stream",
     "text": [
      "Fitting 5 folds for each of 10 candidates, totalling 50 fits\n"
     ]
    },
    {
     "name": "stdout",
     "output_type": "stream",
     "text": [
      "Best parameters: {'preprocessor__num__poly__degree': 1, 'model__subsample': 0.8, 'model__n_estimators': 200, 'model__max_depth': 7, 'model__learning_rate': 0.05, 'model__gamma': 0, 'model__colsample_bytree': 0.8}\n",
      "Best cross-validated R²: 0.95\n"
     ]
    }
   ],
   "source": [
    "# XGBRegressor model\n",
    "xgb = XGBRegressor(random_state=42, n_jobs=-1)\n",
    "\n",
    "# Pipeline with preprocessing + model\n",
    "pipe_xgb = Pipeline(steps=[\n",
    "    ('preprocessor', transformer),\n",
    "    ('model', xgb)\n",
    "])\n",
    "\n",
    "# Hyperparameter grid\n",
    "param_grid_xgb = {\n",
    "    'preprocessor__num__poly__degree': [1],   \n",
    "    'model__n_estimators': [100, 200, 300, 500],\n",
    "    'model__max_depth': [3, 5, 7],\n",
    "    'model__learning_rate': [0.01, 0.05, 0.1],\n",
    "    'model__subsample': [0.8, 1.0],\n",
    "    'model__colsample_bytree': [0.8, 1.0],\n",
    "    'model__gamma': [0, 0.1, 0.2]\n",
    "}\n",
    "\n",
    "# Grid search with 5-fold CV\n",
    "grid_search_xgb = RandomizedSearchCV(\n",
    "    pipe_xgb,\n",
    "    param_grid_xgb,\n",
    "    cv=5,\n",
    "    scoring='r2',\n",
    "    n_jobs=-1,\n",
    "    verbose=1\n",
    ")\n",
    "\n",
    "grid_search_xgb.fit(X_train, y_train_log)\n",
    "\n",
    "print(\"Best parameters:\", grid_search_xgb.best_params_)\n",
    "print(\"Best cross-validated R²: %.2f\" % grid_search_xgb.best_score_)\n"
   ]
  },
  {
   "cell_type": "markdown",
   "id": "e13fab77",
   "metadata": {},
   "source": [
    "# Best Model\n"
   ]
  },
  {
   "cell_type": "code",
   "execution_count": 15,
   "id": "21248894",
   "metadata": {},
   "outputs": [
    {
     "data": {
      "text/plain": [
       "{'Linear Regression': np.float64(0.88),\n",
       " 'Polynomial Regression (2)': np.float64(0.89),\n",
       " 'Ridge Regression (3)': np.float64(0.9),\n",
       " 'Decision Tree Regressor': np.float64(0.9),\n",
       " 'RandomForest Regressor': np.float64(0.94),\n",
       " 'XGB Regressor': np.float64(0.95)}"
      ]
     },
     "execution_count": 15,
     "metadata": {},
     "output_type": "execute_result"
    }
   ],
   "source": [
    "scores_dict.update({'XGB Regressor': round(grid_search_xgb.best_score_, 2)})\n",
    "scores_dict"
   ]
  },
  {
   "cell_type": "code",
   "execution_count": 18,
   "id": "443bb420",
   "metadata": {},
   "outputs": [
    {
     "data": {
      "text/html": [
       "<div>\n",
       "<style scoped>\n",
       "    .dataframe tbody tr th:only-of-type {\n",
       "        vertical-align: middle;\n",
       "    }\n",
       "\n",
       "    .dataframe tbody tr th {\n",
       "        vertical-align: top;\n",
       "    }\n",
       "\n",
       "    .dataframe thead th {\n",
       "        text-align: right;\n",
       "    }\n",
       "</style>\n",
       "<table border=\"1\" class=\"dataframe\">\n",
       "  <thead>\n",
       "    <tr style=\"text-align: right;\">\n",
       "      <th></th>\n",
       "      <th>Model</th>\n",
       "      <th>CV Avg R² Score</th>\n",
       "    </tr>\n",
       "  </thead>\n",
       "  <tbody>\n",
       "    <tr>\n",
       "      <th>0</th>\n",
       "      <td>XGB Regressor</td>\n",
       "      <td>0.95</td>\n",
       "    </tr>\n",
       "    <tr>\n",
       "      <th>1</th>\n",
       "      <td>RandomForest Regressor</td>\n",
       "      <td>0.94</td>\n",
       "    </tr>\n",
       "    <tr>\n",
       "      <th>2</th>\n",
       "      <td>Decision Tree Regressor</td>\n",
       "      <td>0.90</td>\n",
       "    </tr>\n",
       "    <tr>\n",
       "      <th>3</th>\n",
       "      <td>Ridge Regression (3)</td>\n",
       "      <td>0.90</td>\n",
       "    </tr>\n",
       "    <tr>\n",
       "      <th>4</th>\n",
       "      <td>Polynomial Regression (2)</td>\n",
       "      <td>0.89</td>\n",
       "    </tr>\n",
       "    <tr>\n",
       "      <th>5</th>\n",
       "      <td>Linear Regression</td>\n",
       "      <td>0.88</td>\n",
       "    </tr>\n",
       "  </tbody>\n",
       "</table>\n",
       "</div>"
      ],
      "text/plain": [
       "                       Model  CV Avg R² Score\n",
       "0              XGB Regressor             0.95\n",
       "1     RandomForest Regressor             0.94\n",
       "2    Decision Tree Regressor             0.90\n",
       "3       Ridge Regression (3)             0.90\n",
       "4  Polynomial Regression (2)             0.89\n",
       "5          Linear Regression             0.88"
      ]
     },
     "execution_count": 18,
     "metadata": {},
     "output_type": "execute_result"
    }
   ],
   "source": [
    "scores_df = pd.DataFrame(list(scores_dict.items()), columns=['Model', 'CV Avg R² Score'])\n",
    "scores_df = scores_df.sort_values(by='CV Avg R² Score', ascending=False).reset_index(drop=True)\n",
    "scores_df"
   ]
  },
  {
   "cell_type": "code",
   "execution_count": 21,
   "id": "f9a2eec9",
   "metadata": {},
   "outputs": [
    {
     "name": "stdout",
     "output_type": "stream",
     "text": [
      "Best Model: XGB Regressor\n"
     ]
    }
   ],
   "source": [
    "print ('Best Model:',  scores_df.nlargest(1, 'CV Avg R² Score')['Model'][0])"
   ]
  },
  {
   "cell_type": "markdown",
   "id": "b7c35bf6",
   "metadata": {},
   "source": [
    "# Final Evaluation"
   ]
  },
  {
   "cell_type": "code",
   "execution_count": 23,
   "id": "d944778f",
   "metadata": {},
   "outputs": [
    {
     "name": "stdout",
     "output_type": "stream",
     "text": [
      "Testing R2 Score:  0.95\n"
     ]
    }
   ],
   "source": [
    "best_model = grid_search_xgb.best_estimator_\n",
    "y_pred_log = best_model.predict(X_test)\n",
    "\n",
    "print('Testing R2 Score: ', round(best_model.score(X_test, y_test_log), 2))"
   ]
  },
  {
   "cell_type": "markdown",
   "id": "5cd33a94",
   "metadata": {},
   "source": [
    "# Best Model Saving"
   ]
  },
  {
   "cell_type": "code",
   "execution_count": 24,
   "id": "14692f48",
   "metadata": {},
   "outputs": [
    {
     "name": "stdout",
     "output_type": "stream",
     "text": [
      "Best Model Saved Successfully\n"
     ]
    }
   ],
   "source": [
    "# Create or open the models directory if it doesn't exist\n",
    "import os\n",
    "os.makedirs('../models', exist_ok=True)\n",
    "\n",
    "# Save the best model\n",
    "with open('../models/best_xgb_model.pkl', 'wb') as f:\n",
    "    pickle.dump(grid_search_xgb.best_estimator_, f)\n",
    "\n",
    "print('Best Model Saved Successfully')"
   ]
  }
 ],
 "metadata": {
  "kernelspec": {
   "display_name": "car-price",
   "language": "python",
   "name": "python3"
  },
  "language_info": {
   "codemirror_mode": {
    "name": "ipython",
    "version": 3
   },
   "file_extension": ".py",
   "mimetype": "text/x-python",
   "name": "python",
   "nbconvert_exporter": "python",
   "pygments_lexer": "ipython3",
   "version": "3.11.13"
  }
 },
 "nbformat": 4,
 "nbformat_minor": 5
}
